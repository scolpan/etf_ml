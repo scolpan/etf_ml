{
 "cells": [
  {
   "cell_type": "code",
   "execution_count": 1023,
   "id": "c94911cc-72ab-4f1a-9edc-d28fd1d9f686",
   "metadata": {},
   "outputs": [],
   "source": [
    "import os\n",
    "from pathlib import Path\n",
    "import pandas as pd\n",
    "import hvplot.pandas\n",
    "import yfinance as yf\n",
    "import numpy as np\n",
    "\n",
    "from sklearn.ensemble import RandomForestRegressor\n",
    "\n",
    "#from sklearn.model_selection import cross_val_score, GridSearchCV\n",
    "#from sklearn.preprocessing import MinMaxScaler"
   ]
  },
  {
   "cell_type": "code",
   "execution_count": 1024,
   "id": "6731e1a9-99a0-4f87-8b11-40bbc0279c52",
   "metadata": {},
   "outputs": [],
   "source": [
    "#Set global variables\n",
    "#Prediction threshold\n",
    "pred_threshold_low = 0.2\n",
    "pred_threshold_high = 0.5\n",
    "\n",
    "#COVID-19 data features\n",
    "#Disabled = 0, Enabled = 1\n",
    "toggle_covid = 1"
   ]
  },
  {
   "cell_type": "markdown",
   "id": "d7477bc7-2006-475c-9719-ee753014146c",
   "metadata": {},
   "source": [
    "## Data retrieval & cleanup"
   ]
  },
  {
   "cell_type": "code",
   "execution_count": 1025,
   "id": "b095491a-0006-4971-8931-eb23d7f93d95",
   "metadata": {},
   "outputs": [],
   "source": [
    "#Get the ticker names from csv file\n",
    "csvpath = Path('Resources/Tickers.csv')\n",
    "\n",
    "ticker = pd.read_csv(csvpath, header=None)"
   ]
  },
  {
   "cell_type": "code",
   "execution_count": 1026,
   "id": "cbb5b047-3834-40ea-a137-9a64672eaa64",
   "metadata": {},
   "outputs": [],
   "source": [
    "etfs = ticker[0].values"
   ]
  },
  {
   "cell_type": "code",
   "execution_count": 1027,
   "id": "f797f81f-1b38-4d71-b86a-102df1057921",
   "metadata": {},
   "outputs": [],
   "source": [
    "#Function that gets the tickers from yf.\n",
    "def getData(ticker):\n",
    "\n",
    "    tickerData = yf.Ticker(ticker)    \n",
    "    tickerData_history = tickerData.history(period=\"max\")    \n",
    "    tickerData_history = tickerData_history[tickerData_history.index > '2016-01-01']\n",
    "        \n",
    "    return tickerData_history "
   ]
  },
  {
   "cell_type": "code",
   "execution_count": 1028,
   "id": "30ca3659-fb11-4f7f-a4f0-5114e68fc10d",
   "metadata": {},
   "outputs": [
    {
     "name": "stdout",
     "output_type": "stream",
     "text": [
      "- ISBT: No data found, symbol may be delisted\n",
      "- VQN: 1d data not available for startTime=-2208988800 and endTime=1623473755. Only 100 years worth of day granularity data are allowed to be fetched per request.\n"
     ]
    }
   ],
   "source": [
    "etf_closing = pd.DataFrame()\n",
    "\n",
    "#Loop the etfs and save the ticker closing prices into a dataframe\n",
    "for etf in etfs:\n",
    "        \n",
    "    hist = getData(etf)\n",
    "    \n",
    "    etf_closing[etf] = hist[\"Close\"]    "
   ]
  },
  {
   "cell_type": "code",
   "execution_count": 1029,
   "id": "4beb7483-6899-4554-8e72-3b5e1438cfc9",
   "metadata": {},
   "outputs": [
    {
     "name": "stdout",
     "output_type": "stream",
     "text": [
      "XGD.TO      26\n",
      "ZTL.NE     313\n",
      "XST.TO      26\n",
      "ISBT      1370\n",
      "VRE        473\n",
      "BBU        103\n",
      "VQN       1370\n",
      "FTXR       182\n",
      "FTL       1224\n",
      "dtype: int64\n"
     ]
    }
   ],
   "source": [
    "#Cleanup\n",
    "#Get Tickers that have Nulls\n",
    "nullseries = etf_closing.isnull().sum()\n",
    "print(nullseries[nullseries > 0])"
   ]
  },
  {
   "cell_type": "code",
   "execution_count": 1030,
   "id": "848dc252-31c1-4932-a2fd-ffabc8a85b85",
   "metadata": {},
   "outputs": [],
   "source": [
    "tickers_dropped = nullseries[nullseries > 0].index"
   ]
  },
  {
   "cell_type": "code",
   "execution_count": 1031,
   "id": "190be9e2-29d4-4f54-b137-5538c8b26a40",
   "metadata": {},
   "outputs": [
    {
     "data": {
      "text/plain": [
       "Index(['XGD.TO', 'ZTL.NE', 'XST.TO', 'ISBT', 'VRE', 'BBU', 'VQN', 'FTXR',\n",
       "       'FTL'],\n",
       "      dtype='object')"
      ]
     },
     "execution_count": 1031,
     "metadata": {},
     "output_type": "execute_result"
    }
   ],
   "source": [
    "tickers_dropped"
   ]
  },
  {
   "cell_type": "code",
   "execution_count": 1032,
   "id": "8df77a81-9f23-49c4-90bb-256b3bef2af6",
   "metadata": {},
   "outputs": [],
   "source": [
    "#Drop the above tickers\n",
    "etf_closing.drop(tickers_dropped, axis=1, inplace=True)"
   ]
  },
  {
   "cell_type": "code",
   "execution_count": 1033,
   "id": "784e178c-6976-47a4-bf8d-fc3efa6bc693",
   "metadata": {},
   "outputs": [
    {
     "data": {
      "text/html": [
       "<div>\n",
       "<style scoped>\n",
       "    .dataframe tbody tr th:only-of-type {\n",
       "        vertical-align: middle;\n",
       "    }\n",
       "\n",
       "    .dataframe tbody tr th {\n",
       "        vertical-align: top;\n",
       "    }\n",
       "\n",
       "    .dataframe thead th {\n",
       "        text-align: right;\n",
       "    }\n",
       "</style>\n",
       "<table border=\"1\" class=\"dataframe\">\n",
       "  <thead>\n",
       "    <tr style=\"text-align: right;\">\n",
       "      <th></th>\n",
       "      <th>TAN</th>\n",
       "      <th>QCLN</th>\n",
       "      <th>XLE</th>\n",
       "      <th>ICLN</th>\n",
       "      <th>AMLP</th>\n",
       "      <th>VDE</th>\n",
       "      <th>XOP</th>\n",
       "      <th>IEMG</th>\n",
       "      <th>IVV</th>\n",
       "      <th>VOO</th>\n",
       "      <th>...</th>\n",
       "      <th>MCO</th>\n",
       "      <th>COMT</th>\n",
       "      <th>IYK</th>\n",
       "      <th>PSL</th>\n",
       "      <th>IEV</th>\n",
       "      <th>VDC</th>\n",
       "      <th>FSTA</th>\n",
       "      <th>KXI</th>\n",
       "      <th>RHS</th>\n",
       "      <th>PBJ</th>\n",
       "    </tr>\n",
       "    <tr>\n",
       "      <th>Date</th>\n",
       "      <th></th>\n",
       "      <th></th>\n",
       "      <th></th>\n",
       "      <th></th>\n",
       "      <th></th>\n",
       "      <th></th>\n",
       "      <th></th>\n",
       "      <th></th>\n",
       "      <th></th>\n",
       "      <th></th>\n",
       "      <th></th>\n",
       "      <th></th>\n",
       "      <th></th>\n",
       "      <th></th>\n",
       "      <th></th>\n",
       "      <th></th>\n",
       "      <th></th>\n",
       "      <th></th>\n",
       "      <th></th>\n",
       "      <th></th>\n",
       "      <th></th>\n",
       "    </tr>\n",
       "  </thead>\n",
       "  <tbody>\n",
       "    <tr>\n",
       "      <th>2016-01-04</th>\n",
       "      <td>28.486816</td>\n",
       "      <td>15.180246</td>\n",
       "      <td>48.018921</td>\n",
       "      <td>8.680097</td>\n",
       "      <td>37.319801</td>\n",
       "      <td>69.563927</td>\n",
       "      <td>112.901924</td>\n",
       "      <td>33.545959</td>\n",
       "      <td>182.483017</td>\n",
       "      <td>166.546982</td>\n",
       "      <td>...</td>\n",
       "      <td>91.433571</td>\n",
       "      <td>23.346825</td>\n",
       "      <td>94.930428</td>\n",
       "      <td>53.006512</td>\n",
       "      <td>33.869637</td>\n",
       "      <td>111.413399</td>\n",
       "      <td>26.111456</td>\n",
       "      <td>40.190128</td>\n",
       "      <td>102.862846</td>\n",
       "      <td>29.590296</td>\n",
       "    </tr>\n",
       "    <tr>\n",
       "      <th>2016-01-05</th>\n",
       "      <td>28.051689</td>\n",
       "      <td>15.247247</td>\n",
       "      <td>48.202087</td>\n",
       "      <td>8.644485</td>\n",
       "      <td>37.074284</td>\n",
       "      <td>69.815010</td>\n",
       "      <td>112.530151</td>\n",
       "      <td>33.624611</td>\n",
       "      <td>182.862411</td>\n",
       "      <td>166.845139</td>\n",
       "      <td>...</td>\n",
       "      <td>92.703247</td>\n",
       "      <td>23.124161</td>\n",
       "      <td>95.268402</td>\n",
       "      <td>53.559555</td>\n",
       "      <td>33.655334</td>\n",
       "      <td>112.069267</td>\n",
       "      <td>26.295403</td>\n",
       "      <td>40.290981</td>\n",
       "      <td>103.491974</td>\n",
       "      <td>29.796633</td>\n",
       "    </tr>\n",
       "    <tr>\n",
       "      <th>2016-01-06</th>\n",
       "      <td>27.505468</td>\n",
       "      <td>14.873962</td>\n",
       "      <td>46.346638</td>\n",
       "      <td>8.510947</td>\n",
       "      <td>34.956619</td>\n",
       "      <td>67.103081</td>\n",
       "      <td>104.797661</td>\n",
       "      <td>33.021671</td>\n",
       "      <td>180.468475</td>\n",
       "      <td>164.730637</td>\n",
       "      <td>...</td>\n",
       "      <td>91.047974</td>\n",
       "      <td>22.579866</td>\n",
       "      <td>94.378952</td>\n",
       "      <td>53.378376</td>\n",
       "      <td>33.089546</td>\n",
       "      <td>111.597046</td>\n",
       "      <td>26.216570</td>\n",
       "      <td>39.935791</td>\n",
       "      <td>103.141457</td>\n",
       "      <td>29.684082</td>\n",
       "    </tr>\n",
       "    <tr>\n",
       "      <th>2016-01-07</th>\n",
       "      <td>24.987297</td>\n",
       "      <td>14.108252</td>\n",
       "      <td>45.215832</td>\n",
       "      <td>8.199352</td>\n",
       "      <td>33.084499</td>\n",
       "      <td>65.429077</td>\n",
       "      <td>102.195374</td>\n",
       "      <td>32.025513</td>\n",
       "      <td>176.150314</td>\n",
       "      <td>160.718582</td>\n",
       "      <td>...</td>\n",
       "      <td>87.201401</td>\n",
       "      <td>22.233500</td>\n",
       "      <td>92.502243</td>\n",
       "      <td>52.482071</td>\n",
       "      <td>32.489483</td>\n",
       "      <td>110.162827</td>\n",
       "      <td>25.866196</td>\n",
       "      <td>39.413944</td>\n",
       "      <td>101.766373</td>\n",
       "      <td>29.224522</td>\n",
       "    </tr>\n",
       "    <tr>\n",
       "      <th>2016-01-08</th>\n",
       "      <td>25.274294</td>\n",
       "      <td>14.041251</td>\n",
       "      <td>44.634518</td>\n",
       "      <td>8.119228</td>\n",
       "      <td>33.728996</td>\n",
       "      <td>64.600418</td>\n",
       "      <td>102.678673</td>\n",
       "      <td>31.719675</td>\n",
       "      <td>174.199005</td>\n",
       "      <td>159.010727</td>\n",
       "      <td>...</td>\n",
       "      <td>84.718544</td>\n",
       "      <td>22.101549</td>\n",
       "      <td>91.657280</td>\n",
       "      <td>52.205551</td>\n",
       "      <td>32.163727</td>\n",
       "      <td>109.305809</td>\n",
       "      <td>25.673492</td>\n",
       "      <td>39.098225</td>\n",
       "      <td>101.101288</td>\n",
       "      <td>29.055700</td>\n",
       "    </tr>\n",
       "  </tbody>\n",
       "</table>\n",
       "<p>5 rows × 61 columns</p>\n",
       "</div>"
      ],
      "text/plain": [
       "                  TAN       QCLN        XLE      ICLN       AMLP        VDE  \\\n",
       "Date                                                                          \n",
       "2016-01-04  28.486816  15.180246  48.018921  8.680097  37.319801  69.563927   \n",
       "2016-01-05  28.051689  15.247247  48.202087  8.644485  37.074284  69.815010   \n",
       "2016-01-06  27.505468  14.873962  46.346638  8.510947  34.956619  67.103081   \n",
       "2016-01-07  24.987297  14.108252  45.215832  8.199352  33.084499  65.429077   \n",
       "2016-01-08  25.274294  14.041251  44.634518  8.119228  33.728996  64.600418   \n",
       "\n",
       "                   XOP       IEMG         IVV         VOO  ...        MCO  \\\n",
       "Date                                                       ...              \n",
       "2016-01-04  112.901924  33.545959  182.483017  166.546982  ...  91.433571   \n",
       "2016-01-05  112.530151  33.624611  182.862411  166.845139  ...  92.703247   \n",
       "2016-01-06  104.797661  33.021671  180.468475  164.730637  ...  91.047974   \n",
       "2016-01-07  102.195374  32.025513  176.150314  160.718582  ...  87.201401   \n",
       "2016-01-08  102.678673  31.719675  174.199005  159.010727  ...  84.718544   \n",
       "\n",
       "                 COMT        IYK        PSL        IEV         VDC       FSTA  \\\n",
       "Date                                                                            \n",
       "2016-01-04  23.346825  94.930428  53.006512  33.869637  111.413399  26.111456   \n",
       "2016-01-05  23.124161  95.268402  53.559555  33.655334  112.069267  26.295403   \n",
       "2016-01-06  22.579866  94.378952  53.378376  33.089546  111.597046  26.216570   \n",
       "2016-01-07  22.233500  92.502243  52.482071  32.489483  110.162827  25.866196   \n",
       "2016-01-08  22.101549  91.657280  52.205551  32.163727  109.305809  25.673492   \n",
       "\n",
       "                  KXI         RHS        PBJ  \n",
       "Date                                          \n",
       "2016-01-04  40.190128  102.862846  29.590296  \n",
       "2016-01-05  40.290981  103.491974  29.796633  \n",
       "2016-01-06  39.935791  103.141457  29.684082  \n",
       "2016-01-07  39.413944  101.766373  29.224522  \n",
       "2016-01-08  39.098225  101.101288  29.055700  \n",
       "\n",
       "[5 rows x 61 columns]"
      ]
     },
     "execution_count": 1033,
     "metadata": {},
     "output_type": "execute_result"
    }
   ],
   "source": [
    "etf_closing.head()"
   ]
  },
  {
   "cell_type": "code",
   "execution_count": 1034,
   "id": "504b5062-b2bd-4f17-97e0-051533a37e32",
   "metadata": {},
   "outputs": [],
   "source": [
    "#Get the total number of etfs\n",
    "total_etfs = len(etf_closing.columns)\n",
    "\n",
    "#total_etfs"
   ]
  },
  {
   "cell_type": "markdown",
   "id": "1be0fb49-0883-4f34-a009-35bf88929ae2",
   "metadata": {},
   "source": [
    "## Signals"
   ]
  },
  {
   "cell_type": "code",
   "execution_count": 1035,
   "id": "b6484183-d2d9-4d7c-a562-8b914b364054",
   "metadata": {},
   "outputs": [],
   "source": [
    "#Trading Signal, Feature One\n",
    "def signal_crossover(ticker_df):\n",
    "       \n",
    "    # Construct Exponential Moving Average of Closing Prices\n",
    "\n",
    "    # Set short and long windows\n",
    "    short_window = 1\n",
    "    long_window = 10\n",
    "\n",
    "    # Create a new df\n",
    "    crossover_df = pd.DataFrame(index=ticker_df.index)\n",
    "    \n",
    "    # Construct a `Fast` and `Slow` Exponential Moving Average from short and long windows, respectively\n",
    "    crossover_df['fast_close'] = ticker_df['Closing'].ewm(halflife=short_window).mean()\n",
    "    crossover_df['slow_close'] = ticker_df['Closing'].ewm(halflife=long_window).mean()\n",
    "\n",
    "    # Construct a crossover trading signal\n",
    "    crossover_df['crossover_long'] = np.where(crossover_df['fast_close'] > crossover_df['slow_close'], 1.0, 0.0)\n",
    "    crossover_df['crossover_short'] = np.where(crossover_df['fast_close'] < crossover_df['slow_close'], -1.0, 0.0)\n",
    "    crossover_df['crossover_signal_temp'] = sig_df['crossover_long'] + crossover_df['crossover_short']\n",
    "\n",
    "    #The following ensures that we have a buy or a sell signal only when there is a switch happening.\n",
    "    #If a buy or a sell signal doesn't change, we use 0 as hold as oppose to continuosly displaying buy (1) or sell (-1)    \n",
    "    #The crossover_toggle column is enumerated based on the values in the crossover_signal_temp column, if a signal repeats, it will increase the enumeration until the signal changes.\n",
    "    crossover_df['crossover_toggle'] = crossover_df.groupby((crossover_df['crossover_signal_temp'] != crossover_df['crossover_signal_temp'].shift(1)).cumsum()).cumcount()+1\n",
    "\n",
    "    #The actual signal column looks at the toggle column and only grab signal values where the toggle enumeration = 1 (when the switch occurs), otherwise it gets recorded as a hold (0)\n",
    "    crossover_df['crossover_signal'] = np.where(crossover_df['crossover_toggle'] == 1, crossover_df['crossover_signal_temp'], 0)\n",
    "    \n",
    "    \n",
    "    return crossover_df['crossover_signal']\n",
    "    \n",
    "    "
   ]
  },
  {
   "cell_type": "code",
   "execution_count": 1036,
   "id": "f67aa2a9-3a57-45fc-a3ca-105df9c53532",
   "metadata": {},
   "outputs": [],
   "source": [
    "#Trading Signal, Feature Two\n",
    "def signal_voltrend(ticker_df):\n",
    "    \n",
    "    #Construct Exponential Moving Average of Daily Return Volatility\n",
    "\n",
    "    # Set short and long volatility windows\n",
    "    short_window = 1\n",
    "    long_window = 10\n",
    "\n",
    "    # Create a new df\n",
    "    voltrend_df = pd.DataFrame(index=ticker_df.index)\n",
    "    \n",
    "    # Construct a `Fast` and `Slow` Exponential Moving Average from short and long windows, respectively\n",
    "    voltrend_df['fast_vol'] = ticker_df['Returns'].ewm(halflife=short_window).std()\n",
    "    voltrend_df['slow_vol'] = ticker_df['Returns'].ewm(halflife=long_window).std()\n",
    "\n",
    "    # Construct a vol. trend trading signal\n",
    "    voltrend_df['vol_trend_long'] = np.where(voltrend_df['fast_vol'] < voltrend_df['slow_vol'], 1.0, 0.0)\n",
    "    voltrend_df['vol_trend_short'] = np.where(voltrend_df['fast_vol'] > voltrend_df['slow_vol'], -1.0, 0.0) \n",
    "    voltrend_df['vol_trend_signal'] = voltrend_df['vol_trend_long'] + voltrend_df['vol_trend_short']\n",
    "\n",
    "    return voltrend_df['vol_trend_signal']\n"
   ]
  },
  {
   "cell_type": "code",
   "execution_count": 1037,
   "id": "7ad76664-51bc-41ea-94cb-a38d64f4307e",
   "metadata": {},
   "outputs": [],
   "source": [
    "#Trading Signal, Feature Three\n",
    "def signal_bollinger(ticker_df):\n",
    "        \n",
    "    # Create a new df\n",
    "    bollinger_df = pd.DataFrame(index=ticker_df.index)        \n",
    "        \n",
    "    #Rolling 20 day window    \n",
    "    bollinger_df[\"closing_rollingmean20\"] = ticker_df['Closing'].rolling(20).mean()\n",
    "    bollinger_df[\"closing_rollingstd20\"] = ticker_df['Closing'].rolling(20).std()\n",
    "\n",
    "    #sig_df[[\"Close\",\"closing_rollingmean20\", \"closing_rollingstd20\"]].plot(figsize=(20, 10))\n",
    "\n",
    "    #Have the bands at * 2.5 \n",
    "    bollinger_df[\"closing_bollinger_upper\"] = bollinger_df[\"closing_rollingmean20\"] + (bollinger_df[\"closing_rollingstd20\"] * 2)\n",
    "    bollinger_df[\"closing_bollinger_lower\"] = bollinger_df[\"closing_rollingmean20\"] - (bollinger_df[\"closing_rollingstd20\"] * 2)\n",
    "\n",
    "    #sig_df[\"closing_bollinger_mod_upper\"] = sig_df[\"closing_rollingmean20\"] + (sig_df[\"closing_rollingstd20\"] * 2.5)\n",
    "    #sig_df[\"closing_bollinger_mod_lower\"] = sig_df[\"closing_rollingmean20\"] - (sig_df[\"closing_rollingstd20\"] * 2.5)\n",
    "\n",
    "    #sig_df[[\"Close\",\"closing_bollinger_upper\", \"closing_bollinger_lower\"]].plot(figsize=(20, 10))\n",
    "\n",
    "    #sig_df[[\"Close\",\"closing_bollinger_mod_upper\", \"closing_bollinger_mod_lower\"]].plot(figsize=(20, 10))\n",
    "\n",
    "    ##Buying\n",
    "    bollinger_df[\"bollinger_long\"] = np.where(ticker_df[\"Closing\"] < bollinger_df[\"closing_bollinger_lower\"], 1, 0)\n",
    "\n",
    "    ##Selling\n",
    "    bollinger_df[\"bollinger_short\"] = np.where(ticker_df[\"Closing\"] > bollinger_df[\"closing_bollinger_upper\"], -1, 0)\n",
    "\n",
    "    bollinger_df[\"bollinger_signal\"] = bollinger_df[\"bollinger_long\"] + bollinger_df[\"bollinger_short\"]\n",
    "\n",
    "\n",
    "    return bollinger_df[\"bollinger_signal\"]\n",
    "    "
   ]
  },
  {
   "cell_type": "code",
   "execution_count": null,
   "id": "1fbc0b1a-7cbb-4cc9-92de-9cbc3d8be78f",
   "metadata": {},
   "outputs": [],
   "source": []
  },
  {
   "cell_type": "code",
   "execution_count": 1038,
   "id": "77742de9-7d40-4c49-bada-2b3ce10666a7",
   "metadata": {},
   "outputs": [
    {
     "data": {
      "text/plain": [
       "Index(['TAN', 'QCLN', 'XLE', 'ICLN', 'AMLP', 'VDE', 'XOP', 'IEMG', 'IVV',\n",
       "       'VOO', 'USRT', 'AACG', 'DGRO', 'IEFA', 'SPY', 'IYR', 'VNQ', 'SCHH',\n",
       "       'XLRE', 'IWM', 'GLD', 'QQQ', 'VEA', 'VGT', 'VUG', 'SCHA', 'USMV', 'HDV',\n",
       "       'GDX', 'VAW', 'XME', 'PICK', 'COPX', 'VEU', 'VWO', 'WPP', 'OMC', 'TAL',\n",
       "       'IPG', 'VIS', 'JETS', 'ITA', 'IYJ', 'FXR', 'XAR', 'FIDU', 'PPA', 'CORN',\n",
       "       'USO', 'DBB', 'SPGI', 'MCO', 'COMT', 'IYK', 'PSL', 'IEV', 'VDC', 'FSTA',\n",
       "       'KXI', 'RHS', 'PBJ'],\n",
       "      dtype='object')"
      ]
     },
     "execution_count": 1038,
     "metadata": {},
     "output_type": "execute_result"
    }
   ],
   "source": [
    "etf_closing.columns"
   ]
  },
  {
   "cell_type": "code",
   "execution_count": 1039,
   "id": "3503b52a-c191-4fe6-84af-ed20c64d1ef5",
   "metadata": {},
   "outputs": [
    {
     "data": {
      "text/plain": [
       "'SPGI'"
      ]
     },
     "execution_count": 1039,
     "metadata": {},
     "output_type": "execute_result"
    }
   ],
   "source": [
    "etf_closing.columns[50]"
   ]
  },
  {
   "cell_type": "markdown",
   "id": "b80fd29b-ad38-4ddb-8c98-9121321334ee",
   "metadata": {},
   "source": [
    "## Random Forest Regressor"
   ]
  },
  {
   "cell_type": "code",
   "execution_count": 1040,
   "id": "bf49a1f5-efb1-416f-b3da-148aacbed164",
   "metadata": {},
   "outputs": [],
   "source": [
    "def rfr_model(ticker_df, covid_columns):\n",
    "    \n",
    "    features = []\n",
    "    if toggle_covid == 1:                \n",
    "        #Add the covid features\n",
    "        features = covid_columns        \n",
    "    \n",
    "    #Add the signal features\n",
    "    features.append('crossover_signal')\n",
    "    features.append('voltrend_signal')\n",
    "    features.append('bollinger_signal')\n",
    "        \n",
    "    # Features\n",
    "    X = ticker_df[features]\n",
    "    # Target\n",
    "    y = ticker_df['Positive Return']\n",
    "    \n",
    "    # Instantiate model with 1000 decision trees\n",
    "    rf = RandomForestRegressor(n_estimators = 1000, random_state = 42)\n",
    "    # Train the model on feature and target data\n",
    "    rf.fit(X, y);\n",
    "        \n",
    "    predictions = rf.predict(X)\n",
    "\n",
    "    return predictions\n",
    "    "
   ]
  },
  {
   "cell_type": "code",
   "execution_count": 1041,
   "id": "a63318c4-1b9e-4e42-a875-ae2e666b2e6c",
   "metadata": {},
   "outputs": [],
   "source": [
    "#Ideas - \n",
    "#When looping through the ETFs, set weights for the top 5 maybe?\n",
    "#When displaying one ETF, show it all, including graphs and charts, when looping through many, display it like a portfolio, add everything up and compare.+\n",
    "#Toggle covid data on and off."
   ]
  },
  {
   "cell_type": "markdown",
   "id": "aca0822b-cfaf-4c21-bb36-41d63517eba9",
   "metadata": {},
   "source": [
    "## Helper Functions"
   ]
  },
  {
   "cell_type": "code",
   "execution_count": 1042,
   "id": "1aa0c1f2-9e4e-453f-92e4-b6428875a334",
   "metadata": {},
   "outputs": [],
   "source": [
    "#Main function that builds the signals and fits the model and makes the prediction\n",
    "def build_model(ticker_df, ticker_name):\n",
    "    \n",
    "    #Get returns\n",
    "    ticker_df['Returns'] = ticker_df.pct_change()\n",
    "        \n",
    "    #Gather Signals\n",
    "    #1) Crossover signal\n",
    "    ticker_df['crossover_signal'] = signal_crossover(ticker_df)\n",
    "    \n",
    "    #Cleanup - Drop nulls\n",
    "    ticker_df.dropna(inplace=True)\n",
    "    \n",
    "    #2) Volatility trend signal\n",
    "    ticker_df['voltrend_signal'] = signal_voltrend(ticker_df)\n",
    "    \n",
    "    #3) Bollinger band signal\n",
    "    ticker_df['bollinger_signal'] = signal_bollinger(ticker_df)\n",
    "    \n",
    "    #Positive return\n",
    "    ticker_df['Positive Return'] = np.where(ticker_df['Returns'] > 0, 1.0, 0.0)\n",
    "\n",
    "    #Check whether to include COVID data\n",
    "    covid_columns = []\n",
    "    if toggle_covid == 1:\n",
    "        \n",
    "        #Get the covid data\n",
    "        covid_data = build_covid_df()\n",
    "        \n",
    "        covid_columns = list(covid_data.columns)\n",
    "        \n",
    "        #Concat covid data\n",
    "        ticker_df = pd.concat([ticker_df, covid_data], axis='columns', join='outer')                    \n",
    "            \n",
    "        #Cleanup the merged df        \n",
    "        #Drop the non-trading days that were introduced due to the outer join with covid data. These can be found by searching for nulls under the Closing column.\n",
    "        ticker_df = ticker_df.dropna(axis=0, subset=['Closing'])\n",
    "\n",
    "        #Fill non existing covid data with 0\n",
    "        ticker_df = ticker_df.fillna(0)\n",
    "    \n",
    "    \n",
    "    #Random forest regressor\n",
    "    ticker_df['predictions_raw'] = rfr_model(ticker_df, covid_columns)\n",
    "    \n",
    "    #Assign threshold to predictions to determine buy, sell or hold.  \n",
    "    ticker_df['Prediction'] = ticker_df['predictions_raw'].apply(assign_threshold)\n",
    "            \n",
    "    return ticker_df    "
   ]
  },
  {
   "cell_type": "code",
   "execution_count": 1043,
   "id": "59ca60f6-d84b-4fee-9c3d-7c97ccd1ec0e",
   "metadata": {},
   "outputs": [],
   "source": [
    "#Function that simulates buy, sell and hold actions based on prediction\n",
    "def calculate_investment(predicted_df, wallet_weight):\n",
    "        \n",
    "    #Number of stocks that will be bought based on equity and given closing price\n",
    "    num_stocks = 0    \n",
    "    investment_equity = 0\n",
    "    \n",
    "    wallet_history = []\n",
    "    equity_history = []\n",
    "    num_stocks_history = []\n",
    "    \n",
    "    #Set the initial wallet determined for this investment.\n",
    "    investment_wallet = main_wallet * wallet_weight    \n",
    "            \n",
    "    #Get the total number of trading days\n",
    "    trading_days = len(predicted_df)\n",
    "    \n",
    "    # Create a new df\n",
    "    investment_df = pd.DataFrame(index=predicted_df.index)     \n",
    "        \n",
    "    for i in range(0,trading_days):\n",
    "                        \n",
    "        #If we have no equity in the stock and a sell signal is detected.\n",
    "        if investment_equity <= 0 and predicted_df['Prediction'].iloc[i] == 'sell':\n",
    "            \n",
    "            #Not much to do, skip.\n",
    "            pass\n",
    "\n",
    "        #If we have equity in the stock and a sell signal is detected.\n",
    "        elif investment_equity > 0 and predicted_df['Prediction'].iloc[i] == 'sell':\n",
    "            \n",
    "            #Sell the stocks\n",
    "            investment_wallet = investment_equity\n",
    "            investment_equity = investment_equity - investment_wallet\n",
    "            \n",
    "            num_stocks = 0\n",
    "        \n",
    "        #If we have money in our wallet and a buy signal is detected\n",
    "        elif investment_wallet > 0 and predicted_df['Prediction'].iloc[i] == 'buy':\n",
    "            \n",
    "            #Buy the stocks\n",
    "            investment_equity = investment_wallet\n",
    "            investment_wallet = investment_wallet - investment_equity\n",
    "            \n",
    "            num_stocks = investment_equity / predicted_df['Closing'].iloc[i]\n",
    "            \n",
    "        #If we don't have money in our wallet and a buy signal is detected\n",
    "        elif investment_wallet <= 0 and predicted_df['Prediction'].iloc[i] == 'buy':\n",
    "            \n",
    "            #Not much to do, hold.\n",
    "            pass\n",
    "            \n",
    "        #After running through the signals, update the equity amount\n",
    "        if num_stocks > 0:            \n",
    "            investment_equity = num_stocks * predicted_df['Closing'].iloc[i]\n",
    "    \n",
    "    \n",
    "        wallet_history.append(investment_wallet)\n",
    "        equity_history.append(investment_equity)\n",
    "        num_stocks_history.append(num_stocks)\n",
    "        \n",
    "    #Store the transaction history\n",
    "    investment_df['wallet'] = wallet_history\n",
    "    investment_df['equity'] = equity_history\n",
    "    investment_df['num_stocks'] = num_stocks_history    \n",
    "    \n",
    "    #Return the investment history\n",
    "    return investment_df\n",
    "    "
   ]
  },
  {
   "cell_type": "code",
   "execution_count": 1044,
   "id": "65fde08d-9f74-42e3-ac9b-a4969d458656",
   "metadata": {},
   "outputs": [],
   "source": [
    "def assign_threshold(x):\n",
    "    \n",
    "    if x < pred_threshold_low:        \n",
    "        return 'sell'    \n",
    "    elif x >= pred_threshold_low and x < pred_threshold_high:        \n",
    "        return 'hold'    \n",
    "    else:                \n",
    "        return 'buy'"
   ]
  },
  {
   "cell_type": "code",
   "execution_count": null,
   "id": "cd1bab7c-ab81-43c3-abef-eebc65284192",
   "metadata": {},
   "outputs": [],
   "source": []
  },
  {
   "cell_type": "markdown",
   "id": "5e0b6db5-213e-4f43-8486-d37a2d41cb5b",
   "metadata": {},
   "source": [
    "## The COVID-19 variable"
   ]
  },
  {
   "cell_type": "code",
   "execution_count": 1045,
   "id": "ff50a04f-31f6-4e5a-8256-72e606412b0c",
   "metadata": {},
   "outputs": [],
   "source": [
    "#Gathers the data from the CSV files and filters to US data only.\n",
    "def getCovidData(csv):\n",
    "    \n",
    "    csvpath = Path('Resources/COVID_Data/' + csv)\n",
    "    data = pd.read_csv(csvpath, index_col=\"Day\")\n",
    "    \n",
    "    cleaned_data = data.loc[data['Code'] == 'USA'].drop(columns=['Entity', 'Code'])\n",
    "    \n",
    "    return cleaned_data"
   ]
  },
  {
   "cell_type": "code",
   "execution_count": 1046,
   "id": "0a0c9aaf-9f54-4126-ba8d-d16353750313",
   "metadata": {},
   "outputs": [],
   "source": [
    "#Builds the dataframe and does cleanup\n",
    "def build_covid_df():\n",
    "\n",
    "    testing_pol = getCovidData('covid-19-testing-policy.csv')\n",
    "    contact_tr = getCovidData('covid-contact-tracing.csv')\n",
    "    vax_pol = getCovidData('covid-vaccination-policy.csv')\n",
    "    debt_relief = getCovidData('debt-relief-covid.csv')\n",
    "    face_cover = getCovidData('face-covering-policies-covid.csv')\n",
    "    income_support = getCovidData('income-support-covid.csv')\n",
    "    internal_mov = getCovidData('internal-movement-covid.csv')\n",
    "    int_travel = getCovidData('international-travel-covid.csv')\n",
    "    public_camp = getCovidData('public-campaigns-covid.csv')\n",
    "    public_events = getCovidData('public-events-covid.csv')\n",
    "    public_gather = getCovidData('public-gathering-rules-covid.csv')\n",
    "    public_trans = getCovidData('public-transport-covid.csv')\n",
    "    stay_home = getCovidData('stay-at-home-covid.csv')\n",
    "    work_close = getCovidData('workplace-closures-covid.csv')\n",
    "    school_close = getCovidData('school-closures-covid.csv')\n",
    "    stringency = getCovidData('covid-stringency-index.csv')\n",
    "\n",
    "    covid_data = pd.concat([testing_pol, contact_tr, vax_pol, debt_relief, face_cover, income_support, internal_mov,\n",
    "                           int_travel, public_camp, public_events, public_gather, public_trans, stay_home, work_close,\n",
    "                           school_close, stringency\n",
    "                           ], axis=\"columns\", join=\"outer\")\n",
    "\n",
    "\n",
    "    #Replace nulls with 0s, in this case Null values are where there is either no data or N/A hence, 0.\n",
    "    covid_data['school_closures'] = covid_data['school_closures'].fillna(0)\n",
    "    covid_data['stringency_index'] = covid_data['stringency_index'].fillna(0)    \n",
    "    \n",
    "    #Set index as datetime so it could be merged with the rest of the ETF features.    \n",
    "    covid_data.index = pd.to_datetime(covid_data.index)\n",
    "    \n",
    "    return covid_data"
   ]
  },
  {
   "cell_type": "code",
   "execution_count": null,
   "id": "13894105-09ef-4ca4-9159-33e30fcf4638",
   "metadata": {},
   "outputs": [],
   "source": []
  },
  {
   "cell_type": "code",
   "execution_count": 1047,
   "id": "0759028e-c91d-4acd-8b99-44bacc68ea84",
   "metadata": {},
   "outputs": [],
   "source": [
    "# We start with a $10,000 wallet.\n",
    "main_wallet = 10000"
   ]
  },
  {
   "cell_type": "markdown",
   "id": "c0f84632-91a1-4a21-9667-db296c2be673",
   "metadata": {},
   "source": [
    "## Portfolio builder"
   ]
  },
  {
   "cell_type": "code",
   "execution_count": 1049,
   "id": "fde82d40-3ee1-4d98-8e7f-13164f0b57c9",
   "metadata": {},
   "outputs": [
    {
     "data": {
      "text/plain": [
       "['TAN', 14215.912676755128]"
      ]
     },
     "metadata": {},
     "output_type": "display_data"
    },
    {
     "data": {
      "text/plain": [
       "['QCLN', 22558.747899197013]"
      ]
     },
     "metadata": {},
     "output_type": "display_data"
    },
    {
     "data": {
      "text/plain": [
       "['XLE', 5090.499216350418]"
      ]
     },
     "metadata": {},
     "output_type": "display_data"
    },
    {
     "data": {
      "text/plain": [
       "['ICLN', 6233.524071823079]"
      ]
     },
     "metadata": {},
     "output_type": "display_data"
    },
    {
     "data": {
      "text/plain": [
       "['AMLP', 8604.301512682887]"
      ]
     },
     "metadata": {},
     "output_type": "display_data"
    },
    {
     "data": {
      "text/plain": [
       "['VDE', 7411.9647738296535]"
      ]
     },
     "metadata": {},
     "output_type": "display_data"
    },
    {
     "data": {
      "text/plain": [
       "['XOP', 11877.959783745095]"
      ]
     },
     "metadata": {},
     "output_type": "display_data"
    },
    {
     "data": {
      "text/plain": [
       "['IEMG', 5524.37287831319]"
      ]
     },
     "metadata": {},
     "output_type": "display_data"
    },
    {
     "data": {
      "text/plain": [
       "['IVV', 4509.580769271721]"
      ]
     },
     "metadata": {},
     "output_type": "display_data"
    },
    {
     "data": {
      "text/plain": [
       "['VOO', 5123.24810031543]"
      ]
     },
     "metadata": {},
     "output_type": "display_data"
    },
    {
     "data": {
      "text/plain": [
       "['USRT', 5099.957575854875]"
      ]
     },
     "metadata": {},
     "output_type": "display_data"
    },
    {
     "data": {
      "text/plain": [
       "['AACG', 9093.528507980884]"
      ]
     },
     "metadata": {},
     "output_type": "display_data"
    },
    {
     "data": {
      "text/plain": [
       "['DGRO', 4622.427321828019]"
      ]
     },
     "metadata": {},
     "output_type": "display_data"
    },
    {
     "data": {
      "text/plain": [
       "['IEFA', 3734.3305634785106]"
      ]
     },
     "metadata": {},
     "output_type": "display_data"
    },
    {
     "data": {
      "text/plain": [
       "['SPY', 5001.501891334199]"
      ]
     },
     "metadata": {},
     "output_type": "display_data"
    },
    {
     "data": {
      "text/plain": [
       "['IYR', 5077.487880453096]"
      ]
     },
     "metadata": {},
     "output_type": "display_data"
    },
    {
     "data": {
      "text/plain": [
       "['VNQ', 5461.642715036853]"
      ]
     },
     "metadata": {},
     "output_type": "display_data"
    },
    {
     "data": {
      "text/plain": [
       "['SCHH', 3560.8311058090835]"
      ]
     },
     "metadata": {},
     "output_type": "display_data"
    },
    {
     "data": {
      "text/plain": [
       "['XLRE', 5183.757823132032]"
      ]
     },
     "metadata": {},
     "output_type": "display_data"
    },
    {
     "data": {
      "text/plain": [
       "['IWM', 6801.143378401661]"
      ]
     },
     "metadata": {},
     "output_type": "display_data"
    },
    {
     "data": {
      "text/plain": [
       "['GLD', 2962.912217781883]"
      ]
     },
     "metadata": {},
     "output_type": "display_data"
    },
    {
     "data": {
      "text/plain": [
       "['QQQ', 6981.199167502118]"
      ]
     },
     "metadata": {},
     "output_type": "display_data"
    },
    {
     "data": {
      "text/plain": [
       "['VEA', 3599.9472174359116]"
      ]
     },
     "metadata": {},
     "output_type": "display_data"
    },
    {
     "data": {
      "text/plain": [
       "['VGT', 8487.946352239509]"
      ]
     },
     "metadata": {},
     "output_type": "display_data"
    },
    {
     "data": {
      "text/plain": [
       "['VUG', 5122.992948714257]"
      ]
     },
     "metadata": {},
     "output_type": "display_data"
    },
    {
     "data": {
      "text/plain": [
       "['SCHA', 6159.541493869657]"
      ]
     },
     "metadata": {},
     "output_type": "display_data"
    },
    {
     "data": {
      "text/plain": [
       "['USMV', 3999.651222829393]"
      ]
     },
     "metadata": {},
     "output_type": "display_data"
    },
    {
     "data": {
      "text/plain": [
       "['HDV', 3312.300038286873]"
      ]
     },
     "metadata": {},
     "output_type": "display_data"
    },
    {
     "data": {
      "text/plain": [
       "['GDX', 7100.57313567896]"
      ]
     },
     "metadata": {},
     "output_type": "display_data"
    },
    {
     "data": {
      "text/plain": [
       "['VAW', 6344.456565435199]"
      ]
     },
     "metadata": {},
     "output_type": "display_data"
    },
    {
     "data": {
      "text/plain": [
       "['XME', 23634.15958722923]"
      ]
     },
     "metadata": {},
     "output_type": "display_data"
    },
    {
     "data": {
      "text/plain": [
       "['PICK', 13932.408854689875]"
      ]
     },
     "metadata": {},
     "output_type": "display_data"
    },
    {
     "data": {
      "text/plain": [
       "['COPX', 20312.805655060813]"
      ]
     },
     "metadata": {},
     "output_type": "display_data"
    },
    {
     "data": {
      "text/plain": [
       "['VEU', 4885.925753338628]"
      ]
     },
     "metadata": {},
     "output_type": "display_data"
    },
    {
     "data": {
      "text/plain": [
       "['VWO', 5633.670826633446]"
      ]
     },
     "metadata": {},
     "output_type": "display_data"
    },
    {
     "data": {
      "text/plain": [
       "['WPP', 2059.058507801973]"
      ]
     },
     "metadata": {},
     "output_type": "display_data"
    },
    {
     "data": {
      "text/plain": [
       "['OMC', 4301.294112259046]"
      ]
     },
     "metadata": {},
     "output_type": "display_data"
    },
    {
     "data": {
      "text/plain": [
       "['TAL', 19224.136783851274]"
      ]
     },
     "metadata": {},
     "output_type": "display_data"
    },
    {
     "data": {
      "text/plain": [
       "['IPG', 8661.146015279859]"
      ]
     },
     "metadata": {},
     "output_type": "display_data"
    },
    {
     "data": {
      "text/plain": [
       "['VIS', 5108.357652703647]"
      ]
     },
     "metadata": {},
     "output_type": "display_data"
    },
    {
     "data": {
      "text/plain": [
       "['JETS', 8564.430914953518]"
      ]
     },
     "metadata": {},
     "output_type": "display_data"
    },
    {
     "data": {
      "text/plain": [
       "['ITA', 7556.064309461463]"
      ]
     },
     "metadata": {},
     "output_type": "display_data"
    },
    {
     "data": {
      "text/plain": [
       "['IYJ', 4957.5627495481485]"
      ]
     },
     "metadata": {},
     "output_type": "display_data"
    },
    {
     "data": {
      "text/plain": [
       "['FXR', 5995.464859656399]"
      ]
     },
     "metadata": {},
     "output_type": "display_data"
    },
    {
     "data": {
      "text/plain": [
       "['XAR', 7968.6169410486755]"
      ]
     },
     "metadata": {},
     "output_type": "display_data"
    },
    {
     "data": {
      "text/plain": [
       "['FIDU', 4878.493351561043]"
      ]
     },
     "metadata": {},
     "output_type": "display_data"
    },
    {
     "data": {
      "text/plain": [
       "['PPA', 6002.903971690303]"
      ]
     },
     "metadata": {},
     "output_type": "display_data"
    },
    {
     "data": {
      "text/plain": [
       "['CORN', 1929.0016406934258]"
      ]
     },
     "metadata": {},
     "output_type": "display_data"
    },
    {
     "data": {
      "text/plain": [
       "['USO', 3898.516440011023]"
      ]
     },
     "metadata": {},
     "output_type": "display_data"
    },
    {
     "data": {
      "text/plain": [
       "['DBB', 2531.4451642566078]"
      ]
     },
     "metadata": {},
     "output_type": "display_data"
    },
    {
     "data": {
      "text/plain": [
       "['SPGI', 15435.267022851065]"
      ]
     },
     "metadata": {},
     "output_type": "display_data"
    },
    {
     "data": {
      "text/plain": [
       "['MCO', 10206.186472738997]"
      ]
     },
     "metadata": {},
     "output_type": "display_data"
    },
    {
     "data": {
      "text/plain": [
       "['COMT', 3617.636851046957]"
      ]
     },
     "metadata": {},
     "output_type": "display_data"
    },
    {
     "data": {
      "text/plain": [
       "['IYK', 3724.9568312832866]"
      ]
     },
     "metadata": {},
     "output_type": "display_data"
    },
    {
     "data": {
      "text/plain": [
       "['PSL', 4189.978888254731]"
      ]
     },
     "metadata": {},
     "output_type": "display_data"
    },
    {
     "data": {
      "text/plain": [
       "['IEV', 4273.386078916086]"
      ]
     },
     "metadata": {},
     "output_type": "display_data"
    },
    {
     "data": {
      "text/plain": [
       "['VDC', 2280.064864987278]"
      ]
     },
     "metadata": {},
     "output_type": "display_data"
    },
    {
     "data": {
      "text/plain": [
       "['FSTA', 2558.6566799123025]"
      ]
     },
     "metadata": {},
     "output_type": "display_data"
    },
    {
     "data": {
      "text/plain": [
       "['KXI', 2544.6539553798843]"
      ]
     },
     "metadata": {},
     "output_type": "display_data"
    },
    {
     "data": {
      "text/plain": [
       "['RHS', 2949.807253760091]"
      ]
     },
     "metadata": {},
     "output_type": "display_data"
    },
    {
     "data": {
      "text/plain": [
       "['PBJ', 3285.6565554129656]"
      ]
     },
     "metadata": {},
     "output_type": "display_data"
    }
   ],
   "source": [
    "portfolio_results = []\n",
    "\n",
    "#Loops through all ETFs, builds prediction models and simulates buy, sell and hold signals\n",
    "for i in range(0, total_etfs):\n",
    "#for i in range(50, 51):\n",
    "    \n",
    "    ticker_name = etf_closing.columns[i]\n",
    "    \n",
    "    ticker_df = pd.DataFrame()    \n",
    "    #predicted_df = pd.DataFrame()    \n",
    "    \n",
    "    ticker_df['Closing'] = etf_closing.iloc[:,i]\n",
    "    \n",
    "    #Build model and get predictions.\n",
    "    predicted_df = build_model(ticker_df, ticker_name)\n",
    "    \n",
    "    #Simulate an investment portfolio based on predictions.\n",
    "    #For now we assume we invest $1000 to each ETF.\n",
    "    investment_df = calculate_investment(predicted_df, 0.1)\n",
    "        \n",
    "    portfolio_df = pd.concat([predicted_df, investment_df], axis='columns', join='inner')                    \n",
    "    \n",
    "    #Get the final value of equity from the dataframe    \n",
    "    final_equity = portfolio_df['equity'][portfolio_df.index[-1]]\n",
    "    \n",
    "    portfolio_results.append([ticker_name, final_equity])        \n",
    "            \n",
    "    display([ticker_name, final_equity])\n",
    "    #display(portfolio_df.tail(50))\n",
    "        "
   ]
  },
  {
   "cell_type": "code",
   "execution_count": 925,
   "id": "333cb2a3-3032-4a83-b5af-ae777fd397ee",
   "metadata": {},
   "outputs": [],
   "source": [
    "#Display results\n",
    "#portfolio_results"
   ]
  },
  {
   "cell_type": "code",
   "execution_count": 1051,
   "id": "0fedbf41-807f-4e73-8a25-ee56bcf9a9aa",
   "metadata": {},
   "outputs": [],
   "source": [
    "from operator import itemgetter\n",
    "\n",
    "#Get top 10 highest return ETFs\n",
    "topten_etfs = sorted(portfolio_results, key=itemgetter(1), reverse=True)[:10]"
   ]
  },
  {
   "cell_type": "code",
   "execution_count": 1052,
   "id": "7bbc571d-483d-4a71-bec2-aa2277c8c2ff",
   "metadata": {},
   "outputs": [
    {
     "data": {
      "text/html": [
       "<div>\n",
       "<style scoped>\n",
       "    .dataframe tbody tr th:only-of-type {\n",
       "        vertical-align: middle;\n",
       "    }\n",
       "\n",
       "    .dataframe tbody tr th {\n",
       "        vertical-align: top;\n",
       "    }\n",
       "\n",
       "    .dataframe thead tr th {\n",
       "        text-align: left;\n",
       "    }\n",
       "</style>\n",
       "<table border=\"1\" class=\"dataframe\">\n",
       "  <thead>\n",
       "    <tr>\n",
       "      <th></th>\n",
       "      <th>ETF</th>\n",
       "      <th>Returns</th>\n",
       "    </tr>\n",
       "  </thead>\n",
       "  <tbody>\n",
       "    <tr>\n",
       "      <th>0</th>\n",
       "      <td>XME</td>\n",
       "      <td>23634.159587</td>\n",
       "    </tr>\n",
       "    <tr>\n",
       "      <th>1</th>\n",
       "      <td>QCLN</td>\n",
       "      <td>22558.747899</td>\n",
       "    </tr>\n",
       "    <tr>\n",
       "      <th>2</th>\n",
       "      <td>COPX</td>\n",
       "      <td>20312.805655</td>\n",
       "    </tr>\n",
       "    <tr>\n",
       "      <th>3</th>\n",
       "      <td>TAL</td>\n",
       "      <td>19224.136784</td>\n",
       "    </tr>\n",
       "    <tr>\n",
       "      <th>4</th>\n",
       "      <td>SPGI</td>\n",
       "      <td>15435.267023</td>\n",
       "    </tr>\n",
       "    <tr>\n",
       "      <th>5</th>\n",
       "      <td>TAN</td>\n",
       "      <td>14215.912677</td>\n",
       "    </tr>\n",
       "    <tr>\n",
       "      <th>6</th>\n",
       "      <td>PICK</td>\n",
       "      <td>13932.408855</td>\n",
       "    </tr>\n",
       "    <tr>\n",
       "      <th>7</th>\n",
       "      <td>XOP</td>\n",
       "      <td>11877.959784</td>\n",
       "    </tr>\n",
       "    <tr>\n",
       "      <th>8</th>\n",
       "      <td>MCO</td>\n",
       "      <td>10206.186473</td>\n",
       "    </tr>\n",
       "    <tr>\n",
       "      <th>9</th>\n",
       "      <td>AACG</td>\n",
       "      <td>9093.528508</td>\n",
       "    </tr>\n",
       "  </tbody>\n",
       "</table>\n",
       "</div>"
      ],
      "text/plain": [
       "    ETF       Returns\n",
       "0   XME  23634.159587\n",
       "1  QCLN  22558.747899\n",
       "2  COPX  20312.805655\n",
       "3   TAL  19224.136784\n",
       "4  SPGI  15435.267023\n",
       "5   TAN  14215.912677\n",
       "6  PICK  13932.408855\n",
       "7   XOP  11877.959784\n",
       "8   MCO  10206.186473\n",
       "9  AACG   9093.528508"
      ]
     },
     "execution_count": 1052,
     "metadata": {},
     "output_type": "execute_result"
    }
   ],
   "source": [
    "topten_df = pd.DataFrame(topten_etfs, columns=[['ETF', 'Returns']])\n",
    "\n",
    "#With COVID features (display only)\n",
    "topten_df"
   ]
  },
  {
   "cell_type": "code",
   "execution_count": 1050,
   "id": "ffb0883a-3aa6-4100-b869-dd5a6518bfc7",
   "metadata": {},
   "outputs": [
    {
     "data": {
      "text/html": [
       "<div>\n",
       "<style scoped>\n",
       "    .dataframe tbody tr th:only-of-type {\n",
       "        vertical-align: middle;\n",
       "    }\n",
       "\n",
       "    .dataframe tbody tr th {\n",
       "        vertical-align: top;\n",
       "    }\n",
       "\n",
       "    .dataframe thead tr th {\n",
       "        text-align: left;\n",
       "    }\n",
       "</style>\n",
       "<table border=\"1\" class=\"dataframe\">\n",
       "  <thead>\n",
       "    <tr>\n",
       "      <th></th>\n",
       "      <th>ETF</th>\n",
       "      <th>Returns</th>\n",
       "    </tr>\n",
       "  </thead>\n",
       "  <tbody>\n",
       "    <tr>\n",
       "      <th>0</th>\n",
       "      <td>QCLN</td>\n",
       "      <td>21244.160037</td>\n",
       "    </tr>\n",
       "    <tr>\n",
       "      <th>1</th>\n",
       "      <td>TAL</td>\n",
       "      <td>16925.857394</td>\n",
       "    </tr>\n",
       "    <tr>\n",
       "      <th>2</th>\n",
       "      <td>XME</td>\n",
       "      <td>16078.929664</td>\n",
       "    </tr>\n",
       "    <tr>\n",
       "      <th>3</th>\n",
       "      <td>MCO</td>\n",
       "      <td>11712.764069</td>\n",
       "    </tr>\n",
       "    <tr>\n",
       "      <th>4</th>\n",
       "      <td>PICK</td>\n",
       "      <td>10180.142792</td>\n",
       "    </tr>\n",
       "    <tr>\n",
       "      <th>5</th>\n",
       "      <td>SPGI</td>\n",
       "      <td>10140.527879</td>\n",
       "    </tr>\n",
       "    <tr>\n",
       "      <th>6</th>\n",
       "      <td>TAN</td>\n",
       "      <td>9263.835880</td>\n",
       "    </tr>\n",
       "    <tr>\n",
       "      <th>7</th>\n",
       "      <td>IWM</td>\n",
       "      <td>8196.851391</td>\n",
       "    </tr>\n",
       "    <tr>\n",
       "      <th>8</th>\n",
       "      <td>XAR</td>\n",
       "      <td>7841.150256</td>\n",
       "    </tr>\n",
       "    <tr>\n",
       "      <th>9</th>\n",
       "      <td>COPX</td>\n",
       "      <td>7699.569437</td>\n",
       "    </tr>\n",
       "  </tbody>\n",
       "</table>\n",
       "</div>"
      ],
      "text/plain": [
       "    ETF       Returns\n",
       "0  QCLN  21244.160037\n",
       "1   TAL  16925.857394\n",
       "2   XME  16078.929664\n",
       "3   MCO  11712.764069\n",
       "4  PICK  10180.142792\n",
       "5  SPGI  10140.527879\n",
       "6   TAN   9263.835880\n",
       "7   IWM   8196.851391\n",
       "8   XAR   7841.150256\n",
       "9  COPX   7699.569437"
      ]
     },
     "execution_count": 1050,
     "metadata": {},
     "output_type": "execute_result"
    }
   ],
   "source": [
    "#Without COVID features (display only)\n",
    "topten_df"
   ]
  },
  {
   "cell_type": "markdown",
   "id": "7fc537b1-13c2-4306-9073-539f74182e06",
   "metadata": {},
   "source": [
    "## Showcasing an ETF (under progress)"
   ]
  },
  {
   "cell_type": "code",
   "execution_count": 1056,
   "id": "5d2a8d6b-6c00-4217-92d6-3489fe700ee0",
   "metadata": {},
   "outputs": [],
   "source": [
    "toggle_covid = 1"
   ]
  },
  {
   "cell_type": "code",
   "execution_count": 1057,
   "id": "5eb4da69-02cb-496b-b675-b6f8777f445e",
   "metadata": {},
   "outputs": [
    {
     "data": {
      "text/html": [
       "<div>\n",
       "<style scoped>\n",
       "    .dataframe tbody tr th:only-of-type {\n",
       "        vertical-align: middle;\n",
       "    }\n",
       "\n",
       "    .dataframe tbody tr th {\n",
       "        vertical-align: top;\n",
       "    }\n",
       "\n",
       "    .dataframe thead th {\n",
       "        text-align: right;\n",
       "    }\n",
       "</style>\n",
       "<table border=\"1\" class=\"dataframe\">\n",
       "  <thead>\n",
       "    <tr style=\"text-align: right;\">\n",
       "      <th></th>\n",
       "      <th>Closing</th>\n",
       "      <th>Returns</th>\n",
       "      <th>crossover_signal</th>\n",
       "      <th>voltrend_signal</th>\n",
       "      <th>bollinger_signal</th>\n",
       "      <th>Positive Return</th>\n",
       "      <th>testing_policy</th>\n",
       "      <th>contact_tracing</th>\n",
       "      <th>vaccination_policy</th>\n",
       "      <th>debt_relief</th>\n",
       "      <th>...</th>\n",
       "      <th>close_public_transport</th>\n",
       "      <th>stay_home_requirements</th>\n",
       "      <th>workplace_closures</th>\n",
       "      <th>school_closures</th>\n",
       "      <th>stringency_index</th>\n",
       "      <th>predictions_raw</th>\n",
       "      <th>Prediction</th>\n",
       "      <th>wallet</th>\n",
       "      <th>equity</th>\n",
       "      <th>num_stocks</th>\n",
       "    </tr>\n",
       "  </thead>\n",
       "  <tbody>\n",
       "    <tr>\n",
       "      <th>2016-01-05</th>\n",
       "      <td>89.795204</td>\n",
       "      <td>0.003375</td>\n",
       "      <td>1.0</td>\n",
       "      <td>0.0</td>\n",
       "      <td>0.0</td>\n",
       "      <td>1.0</td>\n",
       "      <td>0.0</td>\n",
       "      <td>0.0</td>\n",
       "      <td>0.0</td>\n",
       "      <td>0.0</td>\n",
       "      <td>...</td>\n",
       "      <td>0.0</td>\n",
       "      <td>0.0</td>\n",
       "      <td>0.0</td>\n",
       "      <td>0.0</td>\n",
       "      <td>0.0</td>\n",
       "      <td>0.970584</td>\n",
       "      <td>buy</td>\n",
       "      <td>0.0</td>\n",
       "      <td>1000.000000</td>\n",
       "      <td>11.136452</td>\n",
       "    </tr>\n",
       "    <tr>\n",
       "      <th>2016-01-06</th>\n",
       "      <td>88.813446</td>\n",
       "      <td>-0.010933</td>\n",
       "      <td>-1.0</td>\n",
       "      <td>0.0</td>\n",
       "      <td>0.0</td>\n",
       "      <td>0.0</td>\n",
       "      <td>0.0</td>\n",
       "      <td>0.0</td>\n",
       "      <td>0.0</td>\n",
       "      <td>0.0</td>\n",
       "      <td>...</td>\n",
       "      <td>0.0</td>\n",
       "      <td>0.0</td>\n",
       "      <td>0.0</td>\n",
       "      <td>0.0</td>\n",
       "      <td>0.0</td>\n",
       "      <td>0.026960</td>\n",
       "      <td>sell</td>\n",
       "      <td>1000.0</td>\n",
       "      <td>0.000000</td>\n",
       "      <td>0.000000</td>\n",
       "    </tr>\n",
       "    <tr>\n",
       "      <th>2016-01-07</th>\n",
       "      <td>86.019112</td>\n",
       "      <td>-0.031463</td>\n",
       "      <td>0.0</td>\n",
       "      <td>1.0</td>\n",
       "      <td>0.0</td>\n",
       "      <td>0.0</td>\n",
       "      <td>0.0</td>\n",
       "      <td>0.0</td>\n",
       "      <td>0.0</td>\n",
       "      <td>0.0</td>\n",
       "      <td>...</td>\n",
       "      <td>0.0</td>\n",
       "      <td>0.0</td>\n",
       "      <td>0.0</td>\n",
       "      <td>0.0</td>\n",
       "      <td>0.0</td>\n",
       "      <td>0.563822</td>\n",
       "      <td>buy</td>\n",
       "      <td>0.0</td>\n",
       "      <td>1000.000000</td>\n",
       "      <td>11.625324</td>\n",
       "    </tr>\n",
       "    <tr>\n",
       "      <th>2016-01-08</th>\n",
       "      <td>83.555260</td>\n",
       "      <td>-0.028643</td>\n",
       "      <td>0.0</td>\n",
       "      <td>1.0</td>\n",
       "      <td>0.0</td>\n",
       "      <td>0.0</td>\n",
       "      <td>0.0</td>\n",
       "      <td>0.0</td>\n",
       "      <td>0.0</td>\n",
       "      <td>0.0</td>\n",
       "      <td>...</td>\n",
       "      <td>0.0</td>\n",
       "      <td>0.0</td>\n",
       "      <td>0.0</td>\n",
       "      <td>0.0</td>\n",
       "      <td>0.0</td>\n",
       "      <td>0.563822</td>\n",
       "      <td>buy</td>\n",
       "      <td>0.0</td>\n",
       "      <td>971.356924</td>\n",
       "      <td>11.625324</td>\n",
       "    </tr>\n",
       "    <tr>\n",
       "      <th>2016-01-11</th>\n",
       "      <td>83.517471</td>\n",
       "      <td>-0.000452</td>\n",
       "      <td>0.0</td>\n",
       "      <td>-1.0</td>\n",
       "      <td>0.0</td>\n",
       "      <td>0.0</td>\n",
       "      <td>0.0</td>\n",
       "      <td>0.0</td>\n",
       "      <td>0.0</td>\n",
       "      <td>0.0</td>\n",
       "      <td>...</td>\n",
       "      <td>0.0</td>\n",
       "      <td>0.0</td>\n",
       "      <td>0.0</td>\n",
       "      <td>0.0</td>\n",
       "      <td>0.0</td>\n",
       "      <td>0.505430</td>\n",
       "      <td>buy</td>\n",
       "      <td>0.0</td>\n",
       "      <td>970.917622</td>\n",
       "      <td>11.625324</td>\n",
       "    </tr>\n",
       "    <tr>\n",
       "      <th>...</th>\n",
       "      <td>...</td>\n",
       "      <td>...</td>\n",
       "      <td>...</td>\n",
       "      <td>...</td>\n",
       "      <td>...</td>\n",
       "      <td>...</td>\n",
       "      <td>...</td>\n",
       "      <td>...</td>\n",
       "      <td>...</td>\n",
       "      <td>...</td>\n",
       "      <td>...</td>\n",
       "      <td>...</td>\n",
       "      <td>...</td>\n",
       "      <td>...</td>\n",
       "      <td>...</td>\n",
       "      <td>...</td>\n",
       "      <td>...</td>\n",
       "      <td>...</td>\n",
       "      <td>...</td>\n",
       "      <td>...</td>\n",
       "      <td>...</td>\n",
       "    </tr>\n",
       "    <tr>\n",
       "      <th>2021-06-04</th>\n",
       "      <td>384.579987</td>\n",
       "      <td>0.008470</td>\n",
       "      <td>0.0</td>\n",
       "      <td>1.0</td>\n",
       "      <td>0.0</td>\n",
       "      <td>1.0</td>\n",
       "      <td>0.0</td>\n",
       "      <td>0.0</td>\n",
       "      <td>0.0</td>\n",
       "      <td>0.0</td>\n",
       "      <td>...</td>\n",
       "      <td>0.0</td>\n",
       "      <td>0.0</td>\n",
       "      <td>0.0</td>\n",
       "      <td>0.0</td>\n",
       "      <td>0.0</td>\n",
       "      <td>0.563822</td>\n",
       "      <td>buy</td>\n",
       "      <td>0.0</td>\n",
       "      <td>15349.454699</td>\n",
       "      <td>39.912256</td>\n",
       "    </tr>\n",
       "    <tr>\n",
       "      <th>2021-06-07</th>\n",
       "      <td>381.230011</td>\n",
       "      <td>-0.008711</td>\n",
       "      <td>0.0</td>\n",
       "      <td>1.0</td>\n",
       "      <td>0.0</td>\n",
       "      <td>0.0</td>\n",
       "      <td>0.0</td>\n",
       "      <td>0.0</td>\n",
       "      <td>0.0</td>\n",
       "      <td>0.0</td>\n",
       "      <td>...</td>\n",
       "      <td>0.0</td>\n",
       "      <td>0.0</td>\n",
       "      <td>0.0</td>\n",
       "      <td>0.0</td>\n",
       "      <td>0.0</td>\n",
       "      <td>0.563822</td>\n",
       "      <td>buy</td>\n",
       "      <td>0.0</td>\n",
       "      <td>15215.749617</td>\n",
       "      <td>39.912256</td>\n",
       "    </tr>\n",
       "    <tr>\n",
       "      <th>2021-06-08</th>\n",
       "      <td>384.390015</td>\n",
       "      <td>0.008289</td>\n",
       "      <td>0.0</td>\n",
       "      <td>1.0</td>\n",
       "      <td>0.0</td>\n",
       "      <td>1.0</td>\n",
       "      <td>0.0</td>\n",
       "      <td>0.0</td>\n",
       "      <td>0.0</td>\n",
       "      <td>0.0</td>\n",
       "      <td>...</td>\n",
       "      <td>0.0</td>\n",
       "      <td>0.0</td>\n",
       "      <td>0.0</td>\n",
       "      <td>0.0</td>\n",
       "      <td>0.0</td>\n",
       "      <td>0.563822</td>\n",
       "      <td>buy</td>\n",
       "      <td>0.0</td>\n",
       "      <td>15341.872491</td>\n",
       "      <td>39.912256</td>\n",
       "    </tr>\n",
       "    <tr>\n",
       "      <th>2021-06-09</th>\n",
       "      <td>384.609985</td>\n",
       "      <td>0.000572</td>\n",
       "      <td>0.0</td>\n",
       "      <td>1.0</td>\n",
       "      <td>0.0</td>\n",
       "      <td>1.0</td>\n",
       "      <td>0.0</td>\n",
       "      <td>0.0</td>\n",
       "      <td>0.0</td>\n",
       "      <td>0.0</td>\n",
       "      <td>...</td>\n",
       "      <td>0.0</td>\n",
       "      <td>0.0</td>\n",
       "      <td>0.0</td>\n",
       "      <td>0.0</td>\n",
       "      <td>0.0</td>\n",
       "      <td>0.563822</td>\n",
       "      <td>buy</td>\n",
       "      <td>0.0</td>\n",
       "      <td>15350.652018</td>\n",
       "      <td>39.912256</td>\n",
       "    </tr>\n",
       "    <tr>\n",
       "      <th>2021-06-10</th>\n",
       "      <td>386.730011</td>\n",
       "      <td>0.005512</td>\n",
       "      <td>0.0</td>\n",
       "      <td>1.0</td>\n",
       "      <td>0.0</td>\n",
       "      <td>1.0</td>\n",
       "      <td>0.0</td>\n",
       "      <td>0.0</td>\n",
       "      <td>0.0</td>\n",
       "      <td>0.0</td>\n",
       "      <td>...</td>\n",
       "      <td>0.0</td>\n",
       "      <td>0.0</td>\n",
       "      <td>0.0</td>\n",
       "      <td>0.0</td>\n",
       "      <td>0.0</td>\n",
       "      <td>0.563822</td>\n",
       "      <td>buy</td>\n",
       "      <td>0.0</td>\n",
       "      <td>15435.267023</td>\n",
       "      <td>39.912256</td>\n",
       "    </tr>\n",
       "  </tbody>\n",
       "</table>\n",
       "<p>1368 rows × 27 columns</p>\n",
       "</div>"
      ],
      "text/plain": [
       "               Closing   Returns  crossover_signal  voltrend_signal  \\\n",
       "2016-01-05   89.795204  0.003375               1.0              0.0   \n",
       "2016-01-06   88.813446 -0.010933              -1.0              0.0   \n",
       "2016-01-07   86.019112 -0.031463               0.0              1.0   \n",
       "2016-01-08   83.555260 -0.028643               0.0              1.0   \n",
       "2016-01-11   83.517471 -0.000452               0.0             -1.0   \n",
       "...                ...       ...               ...              ...   \n",
       "2021-06-04  384.579987  0.008470               0.0              1.0   \n",
       "2021-06-07  381.230011 -0.008711               0.0              1.0   \n",
       "2021-06-08  384.390015  0.008289               0.0              1.0   \n",
       "2021-06-09  384.609985  0.000572               0.0              1.0   \n",
       "2021-06-10  386.730011  0.005512               0.0              1.0   \n",
       "\n",
       "            bollinger_signal  Positive Return  testing_policy  \\\n",
       "2016-01-05               0.0              1.0             0.0   \n",
       "2016-01-06               0.0              0.0             0.0   \n",
       "2016-01-07               0.0              0.0             0.0   \n",
       "2016-01-08               0.0              0.0             0.0   \n",
       "2016-01-11               0.0              0.0             0.0   \n",
       "...                      ...              ...             ...   \n",
       "2021-06-04               0.0              1.0             0.0   \n",
       "2021-06-07               0.0              0.0             0.0   \n",
       "2021-06-08               0.0              1.0             0.0   \n",
       "2021-06-09               0.0              1.0             0.0   \n",
       "2021-06-10               0.0              1.0             0.0   \n",
       "\n",
       "            contact_tracing  vaccination_policy  debt_relief  ...  \\\n",
       "2016-01-05              0.0                 0.0          0.0  ...   \n",
       "2016-01-06              0.0                 0.0          0.0  ...   \n",
       "2016-01-07              0.0                 0.0          0.0  ...   \n",
       "2016-01-08              0.0                 0.0          0.0  ...   \n",
       "2016-01-11              0.0                 0.0          0.0  ...   \n",
       "...                     ...                 ...          ...  ...   \n",
       "2021-06-04              0.0                 0.0          0.0  ...   \n",
       "2021-06-07              0.0                 0.0          0.0  ...   \n",
       "2021-06-08              0.0                 0.0          0.0  ...   \n",
       "2021-06-09              0.0                 0.0          0.0  ...   \n",
       "2021-06-10              0.0                 0.0          0.0  ...   \n",
       "\n",
       "            close_public_transport  stay_home_requirements  \\\n",
       "2016-01-05                     0.0                     0.0   \n",
       "2016-01-06                     0.0                     0.0   \n",
       "2016-01-07                     0.0                     0.0   \n",
       "2016-01-08                     0.0                     0.0   \n",
       "2016-01-11                     0.0                     0.0   \n",
       "...                            ...                     ...   \n",
       "2021-06-04                     0.0                     0.0   \n",
       "2021-06-07                     0.0                     0.0   \n",
       "2021-06-08                     0.0                     0.0   \n",
       "2021-06-09                     0.0                     0.0   \n",
       "2021-06-10                     0.0                     0.0   \n",
       "\n",
       "            workplace_closures  school_closures  stringency_index  \\\n",
       "2016-01-05                 0.0              0.0               0.0   \n",
       "2016-01-06                 0.0              0.0               0.0   \n",
       "2016-01-07                 0.0              0.0               0.0   \n",
       "2016-01-08                 0.0              0.0               0.0   \n",
       "2016-01-11                 0.0              0.0               0.0   \n",
       "...                        ...              ...               ...   \n",
       "2021-06-04                 0.0              0.0               0.0   \n",
       "2021-06-07                 0.0              0.0               0.0   \n",
       "2021-06-08                 0.0              0.0               0.0   \n",
       "2021-06-09                 0.0              0.0               0.0   \n",
       "2021-06-10                 0.0              0.0               0.0   \n",
       "\n",
       "            predictions_raw  Prediction  wallet        equity  num_stocks  \n",
       "2016-01-05         0.970584         buy     0.0   1000.000000   11.136452  \n",
       "2016-01-06         0.026960        sell  1000.0      0.000000    0.000000  \n",
       "2016-01-07         0.563822         buy     0.0   1000.000000   11.625324  \n",
       "2016-01-08         0.563822         buy     0.0    971.356924   11.625324  \n",
       "2016-01-11         0.505430         buy     0.0    970.917622   11.625324  \n",
       "...                     ...         ...     ...           ...         ...  \n",
       "2021-06-04         0.563822         buy     0.0  15349.454699   39.912256  \n",
       "2021-06-07         0.563822         buy     0.0  15215.749617   39.912256  \n",
       "2021-06-08         0.563822         buy     0.0  15341.872491   39.912256  \n",
       "2021-06-09         0.563822         buy     0.0  15350.652018   39.912256  \n",
       "2021-06-10         0.563822         buy     0.0  15435.267023   39.912256  \n",
       "\n",
       "[1368 rows x 27 columns]"
      ]
     },
     "metadata": {},
     "output_type": "display_data"
    }
   ],
   "source": [
    "#Showcasing SPGI (at index 50 in our list of ETFs)\n",
    "\n",
    "ticker_name = etf_closing.columns[50]\n",
    "\n",
    "ticker_df = pd.DataFrame()    \n",
    "#predicted_df = pd.DataFrame()    \n",
    "\n",
    "ticker_df['Closing'] = etf_closing.iloc[:,50]\n",
    "\n",
    "#Build model and get predictions.\n",
    "predicted_df = build_model(ticker_df, ticker_name)\n",
    "\n",
    "#Simulate an investment portfolio based on predictions.\n",
    "#For now we assume we invest $1000 to each ETF.\n",
    "investment_df = calculate_investment(predicted_df, 0.1)\n",
    "\n",
    "portfolio_df = pd.concat([predicted_df, investment_df], axis='columns', join='inner')                    \n",
    "\n",
    "#Get the final value of equity from the dataframe    \n",
    "#final_equity = portfolio_df['equity'][portfolio_df.index[-1]]\n",
    "\n",
    "#portfolio_results.append([ticker_name, final_equity])        \n",
    "\n",
    "display(portfolio_df)\n",
    "\n"
   ]
  },
  {
   "cell_type": "code",
   "execution_count": null,
   "id": "15f17c15-ce74-4dd1-b5de-b06f1cd97741",
   "metadata": {},
   "outputs": [],
   "source": []
  },
  {
   "cell_type": "code",
   "execution_count": null,
   "id": "c55ac33d-54d8-4d7e-838e-cc2cd5d21609",
   "metadata": {},
   "outputs": [],
   "source": []
  },
  {
   "cell_type": "code",
   "execution_count": 973,
   "id": "d7eed4da-c103-4641-a6d3-dc7bc338f796",
   "metadata": {},
   "outputs": [],
   "source": []
  },
  {
   "cell_type": "code",
   "execution_count": null,
   "id": "d0b3b049-3c73-4f65-8c94-af81da31143b",
   "metadata": {},
   "outputs": [],
   "source": []
  },
  {
   "cell_type": "code",
   "execution_count": null,
   "id": "5b4c1915-75db-4f2e-b874-040d78824b9b",
   "metadata": {},
   "outputs": [],
   "source": []
  },
  {
   "cell_type": "code",
   "execution_count": null,
   "id": "50f0a721-e862-4efe-af70-2f244543700a",
   "metadata": {},
   "outputs": [],
   "source": []
  },
  {
   "cell_type": "code",
   "execution_count": null,
   "id": "72d5502c-e7df-4611-8a75-eb2f80dd7e65",
   "metadata": {},
   "outputs": [],
   "source": [
    "\n"
   ]
  },
  {
   "cell_type": "code",
   "execution_count": null,
   "id": "7cad6824-c481-4079-9d9c-e91d1566eeba",
   "metadata": {},
   "outputs": [],
   "source": []
  },
  {
   "cell_type": "code",
   "execution_count": 987,
   "id": "b4c241f3-7b7a-4b47-9cf6-50ec25d0c032",
   "metadata": {},
   "outputs": [],
   "source": []
  },
  {
   "cell_type": "code",
   "execution_count": null,
   "id": "2925a800-714d-4bdd-8551-7d3b25c81527",
   "metadata": {},
   "outputs": [],
   "source": []
  },
  {
   "cell_type": "code",
   "execution_count": null,
   "id": "c7f72fc2-ae60-4515-80c2-b0989ba9e6d7",
   "metadata": {},
   "outputs": [],
   "source": []
  },
  {
   "cell_type": "code",
   "execution_count": 993,
   "id": "897bdd7f-1807-41c4-b9a2-b15b46ad9f6f",
   "metadata": {},
   "outputs": [],
   "source": []
  },
  {
   "cell_type": "code",
   "execution_count": null,
   "id": "2bcd95bd-db77-478c-ba5b-a24d7b13ab15",
   "metadata": {},
   "outputs": [],
   "source": []
  },
  {
   "cell_type": "code",
   "execution_count": null,
   "id": "a9e1eced-a8df-4e99-b39a-43b229fdc463",
   "metadata": {},
   "outputs": [],
   "source": []
  },
  {
   "cell_type": "code",
   "execution_count": 1009,
   "id": "df3788a2-35a6-4595-b466-e8f45715213e",
   "metadata": {},
   "outputs": [],
   "source": []
  },
  {
   "cell_type": "code",
   "execution_count": null,
   "id": "eff12303-71f0-41dd-a33b-ff8d97a88a33",
   "metadata": {},
   "outputs": [],
   "source": []
  },
  {
   "cell_type": "code",
   "execution_count": null,
   "id": "b1489ec2-84b6-42d0-a02a-e59b6d653fcd",
   "metadata": {},
   "outputs": [],
   "source": []
  },
  {
   "cell_type": "code",
   "execution_count": null,
   "id": "da2dde1e-14ac-4ca5-83f7-9b4ee7cf6e1c",
   "metadata": {},
   "outputs": [],
   "source": []
  },
  {
   "cell_type": "code",
   "execution_count": null,
   "id": "03b76699-4d17-40e3-bdcf-18c157372136",
   "metadata": {},
   "outputs": [],
   "source": []
  },
  {
   "cell_type": "code",
   "execution_count": 180,
   "id": "eaf9e70a-51be-4f5e-a86d-0e47fa656d72",
   "metadata": {},
   "outputs": [
    {
     "data": {
      "text/plain": [
       "<AxesSubplot:xlabel='Date'>"
      ]
     },
     "execution_count": 180,
     "metadata": {},
     "output_type": "execute_result"
    },
    {
     "data": {
      "image/png": "[encoded data removed]",
      "text/plain": [
       "<Figure size 1440x720 with 1 Axes>"
      ]
     },
     "metadata": {
      "needs_background": "light"
     },
     "output_type": "display_data"
    }
   ],
   "source": [
    "### Plot Exponential Moving Average of Closing Prices\n",
    "sig_df[['Close', 'fast_close', 'slow_close']].plot(figsize=(20,10))"
   ]
  },
  {
   "cell_type": "code",
   "execution_count": 268,
   "id": "b7abcf48-94d8-495f-8a00-451e95316185",
   "metadata": {},
   "outputs": [
    {
     "data": {
      "text/plain": [
       "<AxesSubplot:xlabel='Date'>"
      ]
     },
     "execution_count": 268,
     "metadata": {},
     "output_type": "execute_result"
    },
    {
     "data": {
      "image/png": "[encoded data removed]",
      "text/plain": [
       "<Figure size 1440x1080 with 1 Axes>"
      ]
     },
     "metadata": {
      "needs_background": "light"
     },
     "output_type": "display_data"
    }
   ],
   "source": [
    "sig_df['crossover_real'].plot(figsize=(15, 10))"
   ]
  },
  {
   "cell_type": "code",
   "execution_count": 182,
   "id": "5d50dcb0-a5fd-4a88-a039-14fd1f04df0c",
   "metadata": {},
   "outputs": [
    {
     "data": {
      "text/plain": [
       "<AxesSubplot:xlabel='Date'>"
      ]
     },
     "execution_count": 182,
     "metadata": {},
     "output_type": "execute_result"
    },
    {
     "data": {
      "image/png": "[encoded data removed]",
      "text/plain": [
       "<Figure size 1440x720 with 1 Axes>"
      ]
     },
     "metadata": {
      "needs_background": "light"
     },
     "output_type": "display_data"
    }
   ],
   "source": [
    "### Plot Exponential Moving Average of Daily Return Volatility\n",
    "sig_df[['fast_vol', 'slow_vol']].plot(figsize=(20,10))"
   ]
  },
  {
   "cell_type": "code",
   "execution_count": 956,
   "id": "8f3f2a72-ae7b-4b04-88bc-d442a49e185a",
   "metadata": {},
   "outputs": [],
   "source": [
    "# Shift DataFrame values by 1\n",
    "# sig_df[x_var_list] = sig_df[x_var_list].shift(1)\n",
    "# sig_df[x_var_list].tail()"
   ]
  },
  {
   "cell_type": "code",
   "execution_count": 955,
   "id": "0d4c8206-371e-425c-9904-04cc08ef468e",
   "metadata": {},
   "outputs": [],
   "source": [
    "# Drop NAs and replace positive/negative infinity values\n",
    "# sig_df.dropna(subset=x_var_list, inplace=True)\n",
    "# sig_df.dropna(subset=['daily_return'], inplace=True)\n",
    "# sig_df = sig_df.replace([np.inf, -np.inf], np.nan)\n",
    "# sig_df.head()"
   ]
  },
  {
   "cell_type": "code",
   "execution_count": 954,
   "id": "76067346-42fa-4e2f-97eb-86ade4b3cf80",
   "metadata": {},
   "outputs": [],
   "source": [
    "#************* Important!\n",
    "\n",
    "# Construct the dependent variable where if daily return is greater than 0, then 1, else, 0.\n",
    "\n",
    "# Daily return - set a threshold (if daily return more than $5) or a pct of close.\n",
    "\n",
    "# sig_df['Positive Return'] = np.where(sig_df['daily_return'] > 0, 1.0, 0.0)\n",
    "# sig_df"
   ]
  },
  {
   "cell_type": "code",
   "execution_count": 342,
   "id": "228cb554-725b-4588-a714-a4fa24f6c47b",
   "metadata": {},
   "outputs": [],
   "source": [
    "possible_thresholds = np.arange(0,1,0.1)"
   ]
  },
  {
   "cell_type": "code",
   "execution_count": 343,
   "id": "a8df770f-eef3-47b9-9b46-c6afcf1809b4",
   "metadata": {},
   "outputs": [
    {
     "data": {
      "text/plain": [
       "array([0. , 0.1, 0.2, 0.3, 0.4, 0.5, 0.6, 0.7, 0.8, 0.9])"
      ]
     },
     "execution_count": 343,
     "metadata": {},
     "output_type": "execute_result"
    }
   ],
   "source": [
    "possible_thresholds"
   ]
  },
  {
   "cell_type": "code",
   "execution_count": 402,
   "id": "32aca9c8-99ec-400a-b3fc-03297477678b",
   "metadata": {},
   "outputs": [],
   "source": [
    "#0.3, and 0.4  gives us the best threshold (highest f1 score)\n",
    "# current_threshold = possible_thresholds[3]"
   ]
  },
  {
   "cell_type": "code",
   "execution_count": 953,
   "id": "d7f1551b-e099-4916-8d99-3952212a3a1b",
   "metadata": {},
   "outputs": [],
   "source": [
    "# fl_df['y_predbinary'] = np.where(fl_df['predictions'] > current_threshold, 1, 0)"
   ]
  },
  {
   "cell_type": "code",
   "execution_count": 952,
   "id": "396634f8-11d6-4f4e-866d-6a26d1fa8517",
   "metadata": {},
   "outputs": [],
   "source": [
    "# from sklearn.metrics import f1_score\n",
    "\n",
    "# f1_score(fl_df['Positive Return'], fl_df['y_predbinary'])"
   ]
  },
  {
   "cell_type": "code",
   "execution_count": null,
   "id": "cc000ebc-6cda-4d01-aa69-930e6cb00ed1",
   "metadata": {},
   "outputs": [],
   "source": [
    "#Scatter plot"
   ]
  },
  {
   "cell_type": "code",
   "execution_count": 951,
   "id": "d15fae1f-b035-4e3b-9feb-129794dc1740",
   "metadata": {},
   "outputs": [],
   "source": [
    "# f1_scores = []\n",
    "# for threshold in possible_thresholds:\n",
    "#     fl_df['y_predbinary'] = np.where(fl_df['predictions'] > threshold, 1, 0)\n",
    "#     f1_scores.append(f1_score(fl_df['Positive Return'], fl_df['y_predbinary'])) \n",
    "    \n",
    "    "
   ]
  },
  {
   "cell_type": "code",
   "execution_count": 515,
   "id": "d96eef93-a2db-4058-a6ca-67b278505818",
   "metadata": {},
   "outputs": [
    {
     "data": {
      "text/plain": [
       "<matplotlib.collections.PathCollection at 0x7fad3039ae50>"
      ]
     },
     "execution_count": 515,
     "metadata": {},
     "output_type": "execute_result"
    },
    {
     "data": {
      "image/png": "[encoded data removed]",
      "text/plain": [
       "<Figure size 432x288 with 1 Axes>"
      ]
     },
     "metadata": {
      "needs_background": "light"
     },
     "output_type": "display_data"
    }
   ],
   "source": [
    "plt.scatter(possible_thresholds, f1_scores)\n"
   ]
  },
  {
   "cell_type": "code",
   "execution_count": 430,
   "id": "5d6d5fec-f6f7-4d3f-bfaf-8c3db1877c6f",
   "metadata": {},
   "outputs": [],
   "source": [
    "predictions = fl_df['y_predbinary']"
   ]
  },
  {
   "cell_type": "code",
   "execution_count": 466,
   "id": "b472fa65-c555-4391-a6bb-762a96ac8489",
   "metadata": {},
   "outputs": [
    {
     "data": {
      "text/plain": [
       "[0.3410145829005046, 0.3162278704111159, 0.3427575466883796]"
      ]
     },
     "execution_count": 466,
     "metadata": {},
     "output_type": "execute_result"
    }
   ],
   "source": [
    "#Feature importance\n",
    "\n",
    "\n",
    "# Get numerical feature importances\n",
    "importances = list(rf.feature_importances_)\n",
    "\n",
    "importances"
   ]
  },
  {
   "cell_type": "code",
   "execution_count": 467,
   "id": "46f2b9e7-80f8-42b5-aa93-2853ebc71b7c",
   "metadata": {},
   "outputs": [
    {
     "name": "stdout",
     "output_type": "stream",
     "text": [
      "Variable: crossover_real       Importance: 0.34\n",
      "Variable: bollinger_signal     Importance: 0.34\n",
      "Variable: vol_trend_signal     Importance: 0.32\n"
     ]
    }
   ],
   "source": [
    "# List of tuples with variable and importance\n",
    "feature_importances = [(feature, round(importance, 2)) for feature, importance in zip(feature_list, importances)]\n",
    "# Sort the feature importances by most important first\n",
    "feature_importances = sorted(feature_importances, key = lambda x: x[1], reverse = True)\n",
    "# Print out the feature and importances \n",
    "[print('Variable: {:20} Importance: {}'.format(*pair)) for pair in feature_importances];\n"
   ]
  },
  {
   "cell_type": "code",
   "execution_count": 34,
   "id": "15d84272-562f-4f4b-b081-f67db0b95485",
   "metadata": {},
   "outputs": [],
   "source": []
  },
  {
   "cell_type": "code",
   "execution_count": null,
   "id": "a573c403-de76-46bd-af24-f83ec8279e3a",
   "metadata": {},
   "outputs": [],
   "source": []
  },
  {
   "cell_type": "code",
   "execution_count": null,
   "id": "e86f4b97-403c-4e86-b5ef-30f5fdd62017",
   "metadata": {},
   "outputs": [],
   "source": []
  },
  {
   "cell_type": "code",
   "execution_count": null,
   "id": "2cba761c-bc6f-4950-8979-b2779487b8ea",
   "metadata": {},
   "outputs": [],
   "source": []
  },
  {
   "cell_type": "code",
   "execution_count": null,
   "id": "9a0c2059-a360-4e88-9d49-30f92e2a63f4",
   "metadata": {},
   "outputs": [],
   "source": [
    "\n"
   ]
  },
  {
   "cell_type": "code",
   "execution_count": null,
   "id": "f5e03c09-d88e-4aae-9d60-60480da16658",
   "metadata": {},
   "outputs": [],
   "source": []
  },
  {
   "cell_type": "code",
   "execution_count": null,
   "id": "987ac98a-37ea-498a-a1b1-ee2479e31a6e",
   "metadata": {},
   "outputs": [],
   "source": []
  },
  {
   "cell_type": "code",
   "execution_count": null,
   "id": "c4822318-33da-4abe-982f-bcb7555f85c0",
   "metadata": {},
   "outputs": [],
   "source": [
    "def plot_fraud_rates(df, var_name): \n",
    "    plt.figure(figsize=(20,6))\n",
    "    plt.scatter(df.index, df['fraud_rate']*100)\n",
    "    plt.title(\"Historical fraud accounts rates by {}\".format(var_name), fontsize=20)\n",
    "    plt.xlabel(var_name)\n",
    "    plt.ylabel(\"Percentage (%)\")\n",
    "    plt.xticks(rotation=90)\n",
    "\n",
    "def plot_correlation(df, var_name):\n",
    "    target_var = 'fraud_acct'\n",
    "    df2 = pd.get_dummies(df[[var_name, target_var]], columns=[var_name])\n",
    "    x_labels = []\n",
    "    labels = list(df2.columns[1:])\n",
    "    for i in range(0,len(labels)):\n",
    "        x_labels.append(labels[i].split('_')[-1])\n",
    "\n",
    "    df3 = df2.corrwith(df2.fraud_acct)[1:]\n",
    "    df3.index = x_labels\n",
    "\n",
    "    df3.plot.bar(\n",
    "            figsize = (20, 10), title = \"Correlation with {}\".format(var_name), fontsize = 15, grid = True)\n",
    "    plt.title(\"Correlation between {} and Fraud\".format(var_name), fontsize=20)\n",
    "    plt.xlabel(var_name, fontsize=20)\n",
    "    plt.ylabel(\"Correlation with {}\".format(target_var), fontsize=20)\n",
    "    \n",
    "plot_correlation(df, 'num_apps_same_phone')"
   ]
  }
 ],
 "metadata": {
  "kernelspec": {
   "display_name": "Python 3",
   "language": "python",
   "name": "python3"
  },
  "language_info": {
   "codemirror_mode": {
    "name": "ipython",
    "version": 3
   },
   "file_extension": ".py",
   "mimetype": "text/x-python",
   "name": "python",
   "nbconvert_exporter": "python",
   "pygments_lexer": "ipython3",
   "version": "3.7.10"
  }
 },
 "nbformat": 4,
 "nbformat_minor": 5
}
